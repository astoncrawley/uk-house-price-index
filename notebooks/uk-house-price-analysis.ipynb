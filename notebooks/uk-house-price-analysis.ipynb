{
 "cells": [
  {
   "cell_type": "markdown",
   "id": "ade2b7c9-4eab-436f-be76-5d1822e12b8e",
   "metadata": {},
   "source": [
    "# 📊 UK Housing Market Analysis\n",
    "### Author: Aston Crawley"
   ]
  },
  {
   "cell_type": "code",
   "execution_count": 1,
   "id": "dd504a2d-2fd0-4211-bfac-5a855bdd83cc",
   "metadata": {},
   "outputs": [],
   "source": [
    "# ============== 1. Setup ==============\n",
    "# Import libraries\n",
    "import os\n",
    "import pandas as pd\n",
    "import numpy as np\n",
    "import matplotlib.pyplot as plt\n",
    "import plotly.express as px\n",
    "\n",
    "from scipy.optimize import curve_fit"
   ]
  },
  {
   "cell_type": "code",
   "execution_count": 2,
   "id": "cf584c96-74ff-4b48-8163-3f41907878d4",
   "metadata": {},
   "outputs": [],
   "source": [
    "# ============== 2. Data Loading ==============\n",
    "# Load HM Land Registry Housing Price Index data\n",
    "df = pd.read_csv(os.path.join(\"..\", \"data\", \"UK-HPI.csv\"))"
   ]
  },
  {
   "cell_type": "code",
   "execution_count": 3,
   "id": "6afb6ab6-ee18-4835-817a-2c84d548e5d6",
   "metadata": {},
   "outputs": [
    {
     "name": "stdout",
     "output_type": "stream",
     "text": [
      "         Date     RegionName   AreaCode  AveragePrice  Index  IndexSA  \\\n",
      "0  01/01/2004  Aberdeenshire  S12000034         84638   41.1      NaN   \n",
      "1  01/02/2004  Aberdeenshire  S12000034         84623   41.1      NaN   \n",
      "2  01/03/2004  Aberdeenshire  S12000034         86536   42.1      NaN   \n",
      "3  01/04/2004  Aberdeenshire  S12000034         87373   42.5      NaN   \n",
      "4  01/05/2004  Aberdeenshire  S12000034         89493   43.5      NaN   \n",
      "\n",
      "   1m%Change  12m%Change  AveragePriceSA  SalesVolume  ...  NewPrice  \\\n",
      "0        NaN         NaN             NaN        388.0  ...  112843.0   \n",
      "1        0.0         NaN             NaN        326.0  ...  113061.0   \n",
      "2        2.3         NaN             NaN        453.0  ...  115218.0   \n",
      "3        1.0         NaN             NaN        571.0  ...  115247.0   \n",
      "4        2.4         NaN             NaN        502.0  ...  117377.0   \n",
      "\n",
      "   NewIndex  New1m%Change  New12m%Change  NewSalesVolume  OldPrice  OldIndex  \\\n",
      "0      40.7           NaN            NaN           103.0   81273.0      41.0   \n",
      "1      40.8           0.2            NaN           107.0   81194.0      40.9   \n",
      "2      41.6           1.9            NaN           140.0   83137.0      41.9   \n",
      "3      41.6           0.0            NaN           180.0   84241.0      42.5   \n",
      "4      42.4           1.8            NaN           167.0   86466.0      43.6   \n",
      "\n",
      "   Old1m%Change  Old12m%Change  OldSalesVolume  \n",
      "0           NaN            NaN           285.0  \n",
      "1          -0.1            NaN           219.0  \n",
      "2           2.4            NaN           313.0  \n",
      "3           1.3            NaN           391.0  \n",
      "4           2.6            NaN           335.0  \n",
      "\n",
      "[5 rows x 54 columns]\n",
      "<class 'pandas.core.frame.DataFrame'>\n",
      "RangeIndex: 146655 entries, 0 to 146654\n",
      "Data columns (total 54 columns):\n",
      " #   Column                  Non-Null Count   Dtype  \n",
      "---  ------                  --------------   -----  \n",
      " 0   Date                    146655 non-null  object \n",
      " 1   RegionName              146655 non-null  object \n",
      " 2   AreaCode                146655 non-null  object \n",
      " 3   AveragePrice            146655 non-null  int64  \n",
      " 4   Index                   146655 non-null  float64\n",
      " 5   IndexSA                 5154 non-null    float64\n",
      " 6   1m%Change               146202 non-null  float64\n",
      " 7   12m%Change              141795 non-null  float64\n",
      " 8   AveragePriceSA          5154 non-null    float64\n",
      " 9   SalesVolume             142188 non-null  float64\n",
      " 10  DetachedPrice           139926 non-null  float64\n",
      " 11  DetachedIndex           139926 non-null  float64\n",
      " 12  Detached1m%Change       139531 non-null  float64\n",
      " 13  Detached12m%Change      135210 non-null  float64\n",
      " 14  SemiDetachedPrice       139926 non-null  float64\n",
      " 15  SemiDetachedIndex       139926 non-null  float64\n",
      " 16  SemiDetached1m%Change   139531 non-null  float64\n",
      " 17  SemiDetached12m%Change  135210 non-null  float64\n",
      " 18  TerracedPrice           140037 non-null  float64\n",
      " 19  TerracedIndex           140037 non-null  float64\n",
      " 20  Terraced1m%Change       139641 non-null  float64\n",
      " 21  Terraced12m%Change      135309 non-null  float64\n",
      " 22  FlatPrice               140292 non-null  float64\n",
      " 23  FlatIndex               140292 non-null  float64\n",
      " 24  Flat1m%Change           139896 non-null  float64\n",
      " 25  Flat12m%Change          135564 non-null  float64\n",
      " 26  CashPrice               63504 non-null   float64\n",
      " 27  CashIndex               63504 non-null   float64\n",
      " 28  Cash1m%Change           63112 non-null   float64\n",
      " 29  Cash12m%Change          58800 non-null   float64\n",
      " 30  CashSalesVolume         62713 non-null   float64\n",
      " 31  MortgagePrice           63504 non-null   float64\n",
      " 32  MortgageIndex           63504 non-null   float64\n",
      " 33  Mortgage1m%Change       63112 non-null   float64\n",
      " 34  Mortgage12m%Change      58800 non-null   float64\n",
      " 35  MortgageSalesVolume     62717 non-null   float64\n",
      " 36  FTBPrice                63900 non-null   float64\n",
      " 37  FTBIndex                63900 non-null   float64\n",
      " 38  FTB1m%Change            63508 non-null   float64\n",
      " 39  FTB12m%Change           59196 non-null   float64\n",
      " 40  FOOPrice                63504 non-null   float64\n",
      " 41  FOOIndex                63504 non-null   float64\n",
      " 42  FOO1m%Change            63112 non-null   float64\n",
      " 43  FOO12m%Change           58800 non-null   float64\n",
      " 44  NewPrice                139300 non-null  float64\n",
      " 45  NewIndex                139300 non-null  float64\n",
      " 46  New1m%Change            138904 non-null  float64\n",
      " 47  New12m%Change           134572 non-null  float64\n",
      " 48  NewSalesVolume          136664 non-null  float64\n",
      " 49  OldPrice                139504 non-null  float64\n",
      " 50  OldIndex                139504 non-null  float64\n",
      " 51  Old1m%Change            139108 non-null  float64\n",
      " 52  Old12m%Change           134776 non-null  float64\n",
      " 53  OldSalesVolume          139494 non-null  float64\n",
      "dtypes: float64(50), int64(1), object(3)\n",
      "memory usage: 60.4+ MB\n"
     ]
    },
    {
     "data": {
      "application/vnd.microsoft.datawrangler.viewer.v0+json": {
       "columns": [
        {
         "name": "index",
         "rawType": "object",
         "type": "string"
        },
        {
         "name": "AveragePrice",
         "rawType": "float64",
         "type": "float"
        },
        {
         "name": "Index",
         "rawType": "float64",
         "type": "float"
        },
        {
         "name": "IndexSA",
         "rawType": "float64",
         "type": "float"
        },
        {
         "name": "1m%Change",
         "rawType": "float64",
         "type": "float"
        },
        {
         "name": "12m%Change",
         "rawType": "float64",
         "type": "float"
        },
        {
         "name": "AveragePriceSA",
         "rawType": "float64",
         "type": "float"
        },
        {
         "name": "SalesVolume",
         "rawType": "float64",
         "type": "float"
        },
        {
         "name": "DetachedPrice",
         "rawType": "float64",
         "type": "float"
        },
        {
         "name": "DetachedIndex",
         "rawType": "float64",
         "type": "float"
        },
        {
         "name": "Detached1m%Change",
         "rawType": "float64",
         "type": "float"
        },
        {
         "name": "Detached12m%Change",
         "rawType": "float64",
         "type": "float"
        },
        {
         "name": "SemiDetachedPrice",
         "rawType": "float64",
         "type": "float"
        },
        {
         "name": "SemiDetachedIndex",
         "rawType": "float64",
         "type": "float"
        },
        {
         "name": "SemiDetached1m%Change",
         "rawType": "float64",
         "type": "float"
        },
        {
         "name": "SemiDetached12m%Change",
         "rawType": "float64",
         "type": "float"
        },
        {
         "name": "TerracedPrice",
         "rawType": "float64",
         "type": "float"
        },
        {
         "name": "TerracedIndex",
         "rawType": "float64",
         "type": "float"
        },
        {
         "name": "Terraced1m%Change",
         "rawType": "float64",
         "type": "float"
        },
        {
         "name": "Terraced12m%Change",
         "rawType": "float64",
         "type": "float"
        },
        {
         "name": "FlatPrice",
         "rawType": "float64",
         "type": "float"
        },
        {
         "name": "FlatIndex",
         "rawType": "float64",
         "type": "float"
        },
        {
         "name": "Flat1m%Change",
         "rawType": "float64",
         "type": "float"
        },
        {
         "name": "Flat12m%Change",
         "rawType": "float64",
         "type": "float"
        },
        {
         "name": "CashPrice",
         "rawType": "float64",
         "type": "float"
        },
        {
         "name": "CashIndex",
         "rawType": "float64",
         "type": "float"
        },
        {
         "name": "Cash1m%Change",
         "rawType": "float64",
         "type": "float"
        },
        {
         "name": "Cash12m%Change",
         "rawType": "float64",
         "type": "float"
        },
        {
         "name": "CashSalesVolume",
         "rawType": "float64",
         "type": "float"
        },
        {
         "name": "MortgagePrice",
         "rawType": "float64",
         "type": "float"
        },
        {
         "name": "MortgageIndex",
         "rawType": "float64",
         "type": "float"
        },
        {
         "name": "Mortgage1m%Change",
         "rawType": "float64",
         "type": "float"
        },
        {
         "name": "Mortgage12m%Change",
         "rawType": "float64",
         "type": "float"
        },
        {
         "name": "MortgageSalesVolume",
         "rawType": "float64",
         "type": "float"
        },
        {
         "name": "FTBPrice",
         "rawType": "float64",
         "type": "float"
        },
        {
         "name": "FTBIndex",
         "rawType": "float64",
         "type": "float"
        },
        {
         "name": "FTB1m%Change",
         "rawType": "float64",
         "type": "float"
        },
        {
         "name": "FTB12m%Change",
         "rawType": "float64",
         "type": "float"
        },
        {
         "name": "FOOPrice",
         "rawType": "float64",
         "type": "float"
        },
        {
         "name": "FOOIndex",
         "rawType": "float64",
         "type": "float"
        },
        {
         "name": "FOO1m%Change",
         "rawType": "float64",
         "type": "float"
        },
        {
         "name": "FOO12m%Change",
         "rawType": "float64",
         "type": "float"
        },
        {
         "name": "NewPrice",
         "rawType": "float64",
         "type": "float"
        },
        {
         "name": "NewIndex",
         "rawType": "float64",
         "type": "float"
        },
        {
         "name": "New1m%Change",
         "rawType": "float64",
         "type": "float"
        },
        {
         "name": "New12m%Change",
         "rawType": "float64",
         "type": "float"
        },
        {
         "name": "NewSalesVolume",
         "rawType": "float64",
         "type": "float"
        },
        {
         "name": "OldPrice",
         "rawType": "float64",
         "type": "float"
        },
        {
         "name": "OldIndex",
         "rawType": "float64",
         "type": "float"
        },
        {
         "name": "Old1m%Change",
         "rawType": "float64",
         "type": "float"
        },
        {
         "name": "Old12m%Change",
         "rawType": "float64",
         "type": "float"
        },
        {
         "name": "OldSalesVolume",
         "rawType": "float64",
         "type": "float"
        }
       ],
       "ref": "d19ef5a1-7279-4a36-a65c-dabe8a2787ec",
       "rows": [
        [
         "count",
         "146655.0",
         "146655.0",
         "5154.0",
         "146202.0",
         "141795.0",
         "5154.0",
         "142188.0",
         "139926.0",
         "139926.0",
         "139531.0",
         "135210.0",
         "139926.0",
         "139926.0",
         "139531.0",
         "135210.0",
         "140037.0",
         "140037.0",
         "139641.0",
         "135309.0",
         "140292.0",
         "140292.0",
         "139896.0",
         "135564.0",
         "63504.0",
         "63504.0",
         "63112.0",
         "58800.0",
         "62713.0",
         "63504.0",
         "63504.0",
         "63112.0",
         "58800.0",
         "62717.0",
         "63900.0",
         "63900.0",
         "63508.0",
         "59196.0",
         "63504.0",
         "63504.0",
         "63112.0",
         "58800.0",
         "139300.0",
         "139300.0",
         "138904.0",
         "134572.0",
         "136664.0",
         "139504.0",
         "139504.0",
         "139108.0",
         "134776.0",
         "139494.0"
        ],
        [
         "mean",
         "181051.68153148546",
         "59.142051754116814",
         "61.44020178502134",
         "0.5296972681632262",
         "6.174255086568638",
         "166900.15347303066",
         "1252.3599459870031",
         "338089.17843717395",
         "59.24086731558109",
         "0.46603478796826514",
         "6.003082612232824",
         "207635.94898017525",
         "58.75137429784314",
         "0.48609914642624225",
         "6.219862436210339",
         "166604.39922306247",
         "58.849087027",
         "0.49009101911329767",
         "6.325093674478416",
         "120321.11995694695",
         "65.22649545234226",
         "0.42029364670898384",
         "5.516370127762532",
         "252158.49930713026",
         "80.94753716301337",
         "0.330620167321587",
         "4.211574829931973",
         "322.47894375966706",
         "253562.64038485766",
         "80.4915910808768",
         "0.3443449740144505",
         "4.362986394557823",
         "729.0069996970518",
         "210966.94280125195",
         "80.84496713615025",
         "0.3356553505070228",
         "4.240156429488478",
         "303489.383771101",
         "80.3568389392794",
         "0.34228355938648747",
         "4.341113945578232",
         "217046.6510696339",
         "60.93059440057431",
         "0.5110363992397627",
         "6.289532740837618",
         "136.1801425393666",
         "182748.76982022022",
         "59.36263046220897",
         "0.47549529861690193",
         "6.127841752240755",
         "1137.2701406512108"
        ],
        [
         "std",
         "129962.10371226592",
         "26.271481206529888",
         "24.694455341726375",
         "1.9413923307568177",
         "8.668794446297651",
         "93842.43700926196",
         "7706.585598922584",
         "339413.610345243",
         "24.833194347479324",
         "1.704025385981449",
         "7.892769710593777",
         "220090.36026951156",
         "25.373399205631273",
         "1.6911506934594285",
         "8.281461301437213",
         "184945.6630823557",
         "25.73629358522793",
         "1.737039783940945",
         "8.618101064286153",
         "96696.1564447592",
         "25.164589370400662",
         "1.772222671277583",
         "9.015318650556031",
         "150261.95165025804",
         "14.421930467270627",
         "1.4708049511195522",
         "4.976043122406878",
         "1996.9670277527957",
         "146795.2483445391",
         "14.68339247397482",
         "1.4607045793793811",
         "4.931832955619336",
         "4502.819196252363",
         "123283.31423724223",
         "14.559101751167804",
         "1.478906873737947",
         "5.00339348336492",
         "179402.86874866323",
         "14.619933562155335",
         "1.4651013192399007",
         "4.9331044587861035",
         "132602.5178863912",
         "25.971427122147567",
         "1.7611211506857443",
         "8.026816236593318",
         "845.480478815554",
         "129694.59086200569",
         "25.16418123696244",
         "1.7359073205124405",
         "8.45499537184749",
         "6961.599238959278"
        ],
        [
         "min",
         "2553.0",
         "0.8",
         "13.9",
         "-30.3",
         "-35.8",
         "39008.0",
         "2.0",
         "40117.0",
         "9.4",
         "-19.6",
         "-30.2",
         "24973.0",
         "9.0",
         "-19.7",
         "-29.4",
         "19407.0",
         "8.8",
         "-20.0",
         "-29.4",
         "15712.0",
         "8.8",
         "-30.3",
         "-28.9",
         "58405.0",
         "43.5",
         "-19.2",
         "-27.4",
         "1.0",
         "66241.0",
         "43.3",
         "-19.1",
         "-27.9",
         "1.0",
         "57199.0",
         "42.4",
         "-19.1",
         "-28.3",
         "71951.0",
         "43.4",
         "-19.1",
         "-27.4",
         "22443.0",
         "8.0",
         "-29.8",
         "-28.9",
         "1.0",
         "22716.0",
         "9.0",
         "-30.6",
         "-30.3",
         "2.0"
        ],
        [
         "25%",
         "99496.5",
         "37.2",
         "45.725",
         "-0.5",
         "1.1",
         "114598.25",
         "140.0",
         "177097.25",
         "40.324999999999996",
         "-0.5",
         "1.3",
         "107861.25",
         "38.8",
         "-0.4",
         "1.4",
         "84607.0",
         "37.6",
         "-0.5",
         "1.3",
         "67239.5",
         "47.1",
         "-0.6",
         "-0.1",
         "150187.0",
         "69.1",
         "-0.5",
         "0.9",
         "38.0",
         "153987.75",
         "68.5",
         "-0.4",
         "1.1",
         "86.0",
         "131179.0",
         "68.9",
         "-0.5",
         "0.9",
         "180828.75",
         "68.4",
         "-0.5",
         "1.1",
         "126406.75",
         "41.4",
         "-0.5",
         "1.7",
         "10.0",
         "101192.25",
         "39.9",
         "-0.5",
         "1.1",
         "126.0"
        ],
        [
         "50%",
         "152912.0",
         "60.6",
         "61.95",
         "0.5",
         "5.2",
         "151857.5",
         "215.0",
         "257474.5",
         "59.6",
         "0.5",
         "5.2",
         "158573.0",
         "59.4",
         "0.5",
         "5.3",
         "127074.0",
         "60.3",
         "0.5",
         "5.3",
         "98993.0",
         "68.9",
         "0.4",
         "4.3",
         "212490.0",
         "81.2",
         "0.3",
         "3.9",
         "58.0",
         "214325.5",
         "80.6",
         "0.4",
         "4.0",
         "133.0",
         "179186.0",
         "80.9",
         "0.3",
         "3.9",
         "252672.5",
         "80.5",
         "0.3",
         "4.0",
         "196063.0",
         "61.1",
         "0.5",
         "5.4",
         "21.0",
         "153253.5",
         "60.4",
         "0.5",
         "5.2",
         "193.0"
        ],
        [
         "75%",
         "227472.5",
         "79.3",
         "79.6",
         "1.5",
         "10.2",
         "206122.5",
         "377.0",
         "390935.25",
         "78.8",
         "1.4",
         "10.0",
         "239964.0",
         "78.4",
         "1.4",
         "10.2",
         "194074.0",
         "78.3",
         "1.4",
         "10.4",
         "144591.25",
         "85.0",
         "1.4",
         "9.7",
         "309371.75",
         "94.2",
         "1.1",
         "7.2",
         "101.0",
         "308917.25",
         "94.0",
         "1.1",
         "7.3",
         "233.0",
         "253424.5",
         "94.125",
         "1.1",
         "7.2",
         "372170.5",
         "93.8",
         "1.2",
         "7.3",
         "274272.25",
         "81.6",
         "1.5",
         "10.2",
         "47.0",
         "228106.5",
         "78.5",
         "1.4",
         "10.3",
         "343.0"
        ],
        [
         "max",
         "1656986.0",
         "153.1",
         "111.5",
         "35.3",
         "98.4",
         "574627.0",
         "183609.0",
         "5820174.0",
         "147.0",
         "34.8",
         "92.6",
         "3919683.0",
         "147.5",
         "35.3",
         "101.6",
         "3888915.0",
         "148.0",
         "36.3",
         "106.9",
         "1330583.0",
         "159.7",
         "36.1",
         "102.7",
         "1621751.0",
         "154.2",
         "21.1",
         "56.5",
         "52162.0",
         "1686923.0",
         "152.7",
         "21.5",
         "56.1",
         "128426.0",
         "1417178.0",
         "154.0",
         "24.3",
         "55.9",
         "1956287.0",
         "151.2",
         "21.3",
         "56.3",
         "1414204.0",
         "149.6",
         "34.9",
         "96.2",
         "21097.0",
         "1665089.0",
         "152.7",
         "35.6",
         "98.6",
         "166098.0"
        ]
       ],
       "shape": {
        "columns": 51,
        "rows": 8
       }
      },
      "text/html": [
       "<div>\n",
       "<style scoped>\n",
       "    .dataframe tbody tr th:only-of-type {\n",
       "        vertical-align: middle;\n",
       "    }\n",
       "\n",
       "    .dataframe tbody tr th {\n",
       "        vertical-align: top;\n",
       "    }\n",
       "\n",
       "    .dataframe thead th {\n",
       "        text-align: right;\n",
       "    }\n",
       "</style>\n",
       "<table border=\"1\" class=\"dataframe\">\n",
       "  <thead>\n",
       "    <tr style=\"text-align: right;\">\n",
       "      <th></th>\n",
       "      <th>AveragePrice</th>\n",
       "      <th>Index</th>\n",
       "      <th>IndexSA</th>\n",
       "      <th>1m%Change</th>\n",
       "      <th>12m%Change</th>\n",
       "      <th>AveragePriceSA</th>\n",
       "      <th>SalesVolume</th>\n",
       "      <th>DetachedPrice</th>\n",
       "      <th>DetachedIndex</th>\n",
       "      <th>Detached1m%Change</th>\n",
       "      <th>...</th>\n",
       "      <th>NewPrice</th>\n",
       "      <th>NewIndex</th>\n",
       "      <th>New1m%Change</th>\n",
       "      <th>New12m%Change</th>\n",
       "      <th>NewSalesVolume</th>\n",
       "      <th>OldPrice</th>\n",
       "      <th>OldIndex</th>\n",
       "      <th>Old1m%Change</th>\n",
       "      <th>Old12m%Change</th>\n",
       "      <th>OldSalesVolume</th>\n",
       "    </tr>\n",
       "  </thead>\n",
       "  <tbody>\n",
       "    <tr>\n",
       "      <th>count</th>\n",
       "      <td>1.466550e+05</td>\n",
       "      <td>146655.000000</td>\n",
       "      <td>5154.000000</td>\n",
       "      <td>146202.000000</td>\n",
       "      <td>141795.000000</td>\n",
       "      <td>5154.000000</td>\n",
       "      <td>142188.000000</td>\n",
       "      <td>1.399260e+05</td>\n",
       "      <td>139926.000000</td>\n",
       "      <td>139531.000000</td>\n",
       "      <td>...</td>\n",
       "      <td>1.393000e+05</td>\n",
       "      <td>139300.000000</td>\n",
       "      <td>138904.000000</td>\n",
       "      <td>134572.000000</td>\n",
       "      <td>136664.000000</td>\n",
       "      <td>1.395040e+05</td>\n",
       "      <td>139504.000000</td>\n",
       "      <td>139108.000000</td>\n",
       "      <td>134776.000000</td>\n",
       "      <td>139494.000000</td>\n",
       "    </tr>\n",
       "    <tr>\n",
       "      <th>mean</th>\n",
       "      <td>1.810517e+05</td>\n",
       "      <td>59.142052</td>\n",
       "      <td>61.440202</td>\n",
       "      <td>0.529697</td>\n",
       "      <td>6.174255</td>\n",
       "      <td>166900.153473</td>\n",
       "      <td>1252.359946</td>\n",
       "      <td>3.380892e+05</td>\n",
       "      <td>59.240867</td>\n",
       "      <td>0.466035</td>\n",
       "      <td>...</td>\n",
       "      <td>2.170467e+05</td>\n",
       "      <td>60.930594</td>\n",
       "      <td>0.511036</td>\n",
       "      <td>6.289533</td>\n",
       "      <td>136.180143</td>\n",
       "      <td>1.827488e+05</td>\n",
       "      <td>59.362630</td>\n",
       "      <td>0.475495</td>\n",
       "      <td>6.127842</td>\n",
       "      <td>1137.270141</td>\n",
       "    </tr>\n",
       "    <tr>\n",
       "      <th>std</th>\n",
       "      <td>1.299621e+05</td>\n",
       "      <td>26.271481</td>\n",
       "      <td>24.694455</td>\n",
       "      <td>1.941392</td>\n",
       "      <td>8.668794</td>\n",
       "      <td>93842.437009</td>\n",
       "      <td>7706.585599</td>\n",
       "      <td>3.394136e+05</td>\n",
       "      <td>24.833194</td>\n",
       "      <td>1.704025</td>\n",
       "      <td>...</td>\n",
       "      <td>1.326025e+05</td>\n",
       "      <td>25.971427</td>\n",
       "      <td>1.761121</td>\n",
       "      <td>8.026816</td>\n",
       "      <td>845.480479</td>\n",
       "      <td>1.296946e+05</td>\n",
       "      <td>25.164181</td>\n",
       "      <td>1.735907</td>\n",
       "      <td>8.454995</td>\n",
       "      <td>6961.599239</td>\n",
       "    </tr>\n",
       "    <tr>\n",
       "      <th>min</th>\n",
       "      <td>2.553000e+03</td>\n",
       "      <td>0.800000</td>\n",
       "      <td>13.900000</td>\n",
       "      <td>-30.300000</td>\n",
       "      <td>-35.800000</td>\n",
       "      <td>39008.000000</td>\n",
       "      <td>2.000000</td>\n",
       "      <td>4.011700e+04</td>\n",
       "      <td>9.400000</td>\n",
       "      <td>-19.600000</td>\n",
       "      <td>...</td>\n",
       "      <td>2.244300e+04</td>\n",
       "      <td>8.000000</td>\n",
       "      <td>-29.800000</td>\n",
       "      <td>-28.900000</td>\n",
       "      <td>1.000000</td>\n",
       "      <td>2.271600e+04</td>\n",
       "      <td>9.000000</td>\n",
       "      <td>-30.600000</td>\n",
       "      <td>-30.300000</td>\n",
       "      <td>2.000000</td>\n",
       "    </tr>\n",
       "    <tr>\n",
       "      <th>25%</th>\n",
       "      <td>9.949650e+04</td>\n",
       "      <td>37.200000</td>\n",
       "      <td>45.725000</td>\n",
       "      <td>-0.500000</td>\n",
       "      <td>1.100000</td>\n",
       "      <td>114598.250000</td>\n",
       "      <td>140.000000</td>\n",
       "      <td>1.770972e+05</td>\n",
       "      <td>40.325000</td>\n",
       "      <td>-0.500000</td>\n",
       "      <td>...</td>\n",
       "      <td>1.264068e+05</td>\n",
       "      <td>41.400000</td>\n",
       "      <td>-0.500000</td>\n",
       "      <td>1.700000</td>\n",
       "      <td>10.000000</td>\n",
       "      <td>1.011922e+05</td>\n",
       "      <td>39.900000</td>\n",
       "      <td>-0.500000</td>\n",
       "      <td>1.100000</td>\n",
       "      <td>126.000000</td>\n",
       "    </tr>\n",
       "    <tr>\n",
       "      <th>50%</th>\n",
       "      <td>1.529120e+05</td>\n",
       "      <td>60.600000</td>\n",
       "      <td>61.950000</td>\n",
       "      <td>0.500000</td>\n",
       "      <td>5.200000</td>\n",
       "      <td>151857.500000</td>\n",
       "      <td>215.000000</td>\n",
       "      <td>2.574745e+05</td>\n",
       "      <td>59.600000</td>\n",
       "      <td>0.500000</td>\n",
       "      <td>...</td>\n",
       "      <td>1.960630e+05</td>\n",
       "      <td>61.100000</td>\n",
       "      <td>0.500000</td>\n",
       "      <td>5.400000</td>\n",
       "      <td>21.000000</td>\n",
       "      <td>1.532535e+05</td>\n",
       "      <td>60.400000</td>\n",
       "      <td>0.500000</td>\n",
       "      <td>5.200000</td>\n",
       "      <td>193.000000</td>\n",
       "    </tr>\n",
       "    <tr>\n",
       "      <th>75%</th>\n",
       "      <td>2.274725e+05</td>\n",
       "      <td>79.300000</td>\n",
       "      <td>79.600000</td>\n",
       "      <td>1.500000</td>\n",
       "      <td>10.200000</td>\n",
       "      <td>206122.500000</td>\n",
       "      <td>377.000000</td>\n",
       "      <td>3.909352e+05</td>\n",
       "      <td>78.800000</td>\n",
       "      <td>1.400000</td>\n",
       "      <td>...</td>\n",
       "      <td>2.742722e+05</td>\n",
       "      <td>81.600000</td>\n",
       "      <td>1.500000</td>\n",
       "      <td>10.200000</td>\n",
       "      <td>47.000000</td>\n",
       "      <td>2.281065e+05</td>\n",
       "      <td>78.500000</td>\n",
       "      <td>1.400000</td>\n",
       "      <td>10.300000</td>\n",
       "      <td>343.000000</td>\n",
       "    </tr>\n",
       "    <tr>\n",
       "      <th>max</th>\n",
       "      <td>1.656986e+06</td>\n",
       "      <td>153.100000</td>\n",
       "      <td>111.500000</td>\n",
       "      <td>35.300000</td>\n",
       "      <td>98.400000</td>\n",
       "      <td>574627.000000</td>\n",
       "      <td>183609.000000</td>\n",
       "      <td>5.820174e+06</td>\n",
       "      <td>147.000000</td>\n",
       "      <td>34.800000</td>\n",
       "      <td>...</td>\n",
       "      <td>1.414204e+06</td>\n",
       "      <td>149.600000</td>\n",
       "      <td>34.900000</td>\n",
       "      <td>96.200000</td>\n",
       "      <td>21097.000000</td>\n",
       "      <td>1.665089e+06</td>\n",
       "      <td>152.700000</td>\n",
       "      <td>35.600000</td>\n",
       "      <td>98.600000</td>\n",
       "      <td>166098.000000</td>\n",
       "    </tr>\n",
       "  </tbody>\n",
       "</table>\n",
       "<p>8 rows × 51 columns</p>\n",
       "</div>"
      ],
      "text/plain": [
       "       AveragePrice          Index      IndexSA      1m%Change     12m%Change  \\\n",
       "count  1.466550e+05  146655.000000  5154.000000  146202.000000  141795.000000   \n",
       "mean   1.810517e+05      59.142052    61.440202       0.529697       6.174255   \n",
       "std    1.299621e+05      26.271481    24.694455       1.941392       8.668794   \n",
       "min    2.553000e+03       0.800000    13.900000     -30.300000     -35.800000   \n",
       "25%    9.949650e+04      37.200000    45.725000      -0.500000       1.100000   \n",
       "50%    1.529120e+05      60.600000    61.950000       0.500000       5.200000   \n",
       "75%    2.274725e+05      79.300000    79.600000       1.500000      10.200000   \n",
       "max    1.656986e+06     153.100000   111.500000      35.300000      98.400000   \n",
       "\n",
       "       AveragePriceSA    SalesVolume  DetachedPrice  DetachedIndex  \\\n",
       "count     5154.000000  142188.000000   1.399260e+05  139926.000000   \n",
       "mean    166900.153473    1252.359946   3.380892e+05      59.240867   \n",
       "std      93842.437009    7706.585599   3.394136e+05      24.833194   \n",
       "min      39008.000000       2.000000   4.011700e+04       9.400000   \n",
       "25%     114598.250000     140.000000   1.770972e+05      40.325000   \n",
       "50%     151857.500000     215.000000   2.574745e+05      59.600000   \n",
       "75%     206122.500000     377.000000   3.909352e+05      78.800000   \n",
       "max     574627.000000  183609.000000   5.820174e+06     147.000000   \n",
       "\n",
       "       Detached1m%Change  ...      NewPrice       NewIndex   New1m%Change  \\\n",
       "count      139531.000000  ...  1.393000e+05  139300.000000  138904.000000   \n",
       "mean            0.466035  ...  2.170467e+05      60.930594       0.511036   \n",
       "std             1.704025  ...  1.326025e+05      25.971427       1.761121   \n",
       "min           -19.600000  ...  2.244300e+04       8.000000     -29.800000   \n",
       "25%            -0.500000  ...  1.264068e+05      41.400000      -0.500000   \n",
       "50%             0.500000  ...  1.960630e+05      61.100000       0.500000   \n",
       "75%             1.400000  ...  2.742722e+05      81.600000       1.500000   \n",
       "max            34.800000  ...  1.414204e+06     149.600000      34.900000   \n",
       "\n",
       "       New12m%Change  NewSalesVolume      OldPrice       OldIndex  \\\n",
       "count  134572.000000   136664.000000  1.395040e+05  139504.000000   \n",
       "mean        6.289533      136.180143  1.827488e+05      59.362630   \n",
       "std         8.026816      845.480479  1.296946e+05      25.164181   \n",
       "min       -28.900000        1.000000  2.271600e+04       9.000000   \n",
       "25%         1.700000       10.000000  1.011922e+05      39.900000   \n",
       "50%         5.400000       21.000000  1.532535e+05      60.400000   \n",
       "75%        10.200000       47.000000  2.281065e+05      78.500000   \n",
       "max        96.200000    21097.000000  1.665089e+06     152.700000   \n",
       "\n",
       "        Old1m%Change  Old12m%Change  OldSalesVolume  \n",
       "count  139108.000000  134776.000000   139494.000000  \n",
       "mean        0.475495       6.127842     1137.270141  \n",
       "std         1.735907       8.454995     6961.599239  \n",
       "min       -30.600000     -30.300000        2.000000  \n",
       "25%        -0.500000       1.100000      126.000000  \n",
       "50%         0.500000       5.200000      193.000000  \n",
       "75%         1.400000      10.300000      343.000000  \n",
       "max        35.600000      98.600000   166098.000000  \n",
       "\n",
       "[8 rows x 51 columns]"
      ]
     },
     "execution_count": 3,
     "metadata": {},
     "output_type": "execute_result"
    }
   ],
   "source": [
    "# Preview data\n",
    "print(df.head())\n",
    "df.info()\n",
    "df.describe()"
   ]
  },
  {
   "cell_type": "code",
   "execution_count": 4,
   "id": "6473628d-eba5-40dd-9dc9-94573b69d9fe",
   "metadata": {},
   "outputs": [
    {
     "name": "stdout",
     "output_type": "stream",
     "text": [
      "         Date     RegionName  AveragePrice\n",
      "0  2004-01-01  Aberdeenshire         84638\n",
      "1  2004-02-01  Aberdeenshire         84623\n",
      "2  2004-03-01  Aberdeenshire         86536\n",
      "3  2004-04-01  Aberdeenshire         87373\n",
      "4  2004-05-01  Aberdeenshire         89493\n",
      "5  2004-06-01  Aberdeenshire         92485\n",
      "6  2004-07-01  Aberdeenshire         96401\n",
      "7  2004-08-01  Aberdeenshire        101315\n",
      "8  2004-09-01  Aberdeenshire        102220\n",
      "9  2004-10-01  Aberdeenshire        102655\n",
      "10 2004-11-01  Aberdeenshire        103013\n",
      "11 2004-12-01  Aberdeenshire        104124\n",
      "12 2005-01-01  Aberdeenshire        105489\n",
      "13 2005-02-01  Aberdeenshire        101145\n",
      "14 2005-03-01  Aberdeenshire         98196\n",
      "15 2005-04-01  Aberdeenshire         99302\n",
      "16 2005-05-01  Aberdeenshire        105412\n",
      "17 2005-06-01  Aberdeenshire        110561\n",
      "18 2005-07-01  Aberdeenshire        112337\n",
      "19 2005-08-01  Aberdeenshire        116017\n",
      "20 2005-09-01  Aberdeenshire        117748\n",
      "21 2005-10-01  Aberdeenshire        120861\n",
      "22 2005-11-01  Aberdeenshire        119630\n",
      "23 2005-12-01  Aberdeenshire        120029\n",
      "24 2006-01-01  Aberdeenshire        115365\n",
      "25 2006-02-01  Aberdeenshire        113497\n",
      "26 2006-03-01  Aberdeenshire        115572\n",
      "27 2006-04-01  Aberdeenshire        123601\n",
      "28 2006-05-01  Aberdeenshire        131356\n",
      "29 2006-06-01  Aberdeenshire        133753\n",
      "30 2006-07-01  Aberdeenshire        134091\n",
      "31 2006-08-01  Aberdeenshire        136731\n",
      "32 2006-09-01  Aberdeenshire        142700\n",
      "33 2006-10-01  Aberdeenshire        145498\n",
      "34 2006-11-01  Aberdeenshire        145055\n",
      "35 2006-12-01  Aberdeenshire        144247\n",
      "36 2007-01-01  Aberdeenshire        150611\n",
      "37 2007-02-01  Aberdeenshire        150406\n",
      "38 2007-03-01  Aberdeenshire        153037\n",
      "39 2007-04-01  Aberdeenshire        155095\n",
      "40 2007-05-01  Aberdeenshire        163125\n",
      "41 2007-06-01  Aberdeenshire        167430\n",
      "42 2007-07-01  Aberdeenshire        171881\n",
      "43 2007-08-01  Aberdeenshire        179346\n",
      "44 2007-09-01  Aberdeenshire        184224\n",
      "45 2007-10-01  Aberdeenshire        182110\n",
      "46 2007-11-01  Aberdeenshire        179284\n",
      "47 2007-12-01  Aberdeenshire        177594\n",
      "48 2008-01-01  Aberdeenshire        179464\n",
      "49 2008-02-01  Aberdeenshire        176688\n"
     ]
    }
   ],
   "source": [
    "# ============== 3. Data Cleaning ==============\n",
    "# Convert date column to datetime\n",
    "df['Date'] = pd.to_datetime(df['Date'], format='%d/%m/%Y')\n",
    "\n",
    "# Select relevant columns for basic analysis\n",
    "df = df[['Date', 'RegionName', 'AveragePrice']]\n",
    "\n",
    "# Check for missing values\n",
    "df.isnull().values.any()\n",
    "\n",
    "# Sort values\n",
    "df = df.sort_values(by=[\"RegionName\", \"Date\"])\n",
    "\n",
    "print(df.head(50))"
   ]
  },
  {
   "cell_type": "code",
   "execution_count": 5,
   "id": "8e6b16a4-7a38-4af1-804a-225283eb80ac",
   "metadata": {},
   "outputs": [],
   "source": [
    "# # ============== 4. Exploratory Data Analysis (EDA) ==============\n",
    "# # General Trends\n",
    "# plt.figure(figsize=(12,6))\n",
    "# for region in df['RegionName'].unique():\n",
    "#     subset = df[df['RegionName'] == region]\n",
    "#     plt.plot(subset['Date'], subset['AveragePrice'], label=region, alpha=0.6)\n",
    "# plt.xlabel(\"Date\")\n",
    "# plt.ylabel(\"Average Price (£)\")\n",
    "# plt.title(\"UK Average House Prices by Region (1995–2025)\")\n",
    "# plt.legend(loc=\"upper left\", bbox_to_anchor=(1,1))\n",
    "# plt.grid(True)\n",
    "# plt.show()"
   ]
  },
  {
   "cell_type": "code",
   "execution_count": 6,
   "id": "417facf7-e1ed-4afb-a496-2423d6695903",
   "metadata": {},
   "outputs": [
    {
     "data": {
      "application/vnd.plotly.v1+json": {
       "config": {
        "plotlyServerURL": "https://plot.ly"
       },
       "data": [
        {
         "hovertemplate": "Region Name=%{x}<br>Average Price (£)=%{y}<extra></extra>",
         "legendgroup": "",
         "marker": {
          "color": "#636efa",
          "pattern": {
           "shape": ""
          }
         },
         "name": "",
         "orientation": "v",
         "showlegend": false,
         "textposition": "auto",
         "type": "bar",
         "x": [
          "Aberdeenshire",
          "Adur",
          "Amber Valley",
          "Angus",
          "Antrim and Newtownabbey",
          "Ards and North Down",
          "Argyll and Bute",
          "Armagh City Banbridge and Craigavon",
          "Arun",
          "Ashfield",
          "Ashford",
          "Babergh",
          "Barking and Dagenham",
          "Barnet",
          "Barnsley",
          "Basildon",
          "Basingstoke and Deane",
          "Bassetlaw",
          "Bath and North East Somerset",
          "Bedford",
          "Belfast",
          "Bexley",
          "Birmingham",
          "Blaby",
          "Blackburn with Darwen",
          "Blackpool",
          "Blaenau Gwent",
          "Bolsover",
          "Bolton",
          "Boston",
          "Bournemouth Christchurch and Poole",
          "Bracknell Forest",
          "Bradford",
          "Braintree",
          "Breckland",
          "Brent",
          "Brentwood",
          "Bridgend",
          "Brighton and Hove",
          "Broadland",
          "Bromley",
          "Bromsgrove",
          "Broxbourne",
          "Broxtowe",
          "Buckinghamshire",
          "Burnley",
          "Bury",
          "Caerphilly",
          "Calderdale",
          "Cambridge",
          "Cambridgeshire",
          "Camden",
          "Cannock Chase",
          "Canterbury",
          "Cardiff",
          "Carmarthenshire",
          "Castle Point",
          "Causeway Coast and Glens",
          "Central Bedfordshire",
          "Ceredigion",
          "Charnwood",
          "Chelmsford",
          "Cheltenham",
          "Cherwell",
          "Cheshire East",
          "Cheshire West and Chester",
          "Chesterfield",
          "Chichester",
          "Chorley",
          "City of Aberdeen",
          "City of Bristol",
          "City of Derby",
          "City of Dundee",
          "City of Edinburgh",
          "City of Glasgow",
          "City of Kingston upon Hull",
          "City of London",
          "City of Nottingham",
          "City of Peterborough",
          "City of Plymouth",
          "City of Westminster",
          "Clackmannanshire",
          "Colchester",
          "Conwy",
          "Cornwall",
          "Cotswold",
          "County Durham",
          "Coventry",
          "Crawley",
          "Croydon",
          "Cumberland",
          "Dacorum",
          "Darlington",
          "Dartford",
          "Denbighshire",
          "Derbyshire",
          "Derbyshire Dales",
          "Derry City and Strabane",
          "Devon",
          "Doncaster",
          "Dorset",
          "Dover",
          "Dudley",
          "Dumfries and Galloway",
          "Ealing",
          "East Ayrshire",
          "East Cambridgeshire",
          "East Devon",
          "East Dunbartonshire",
          "East Hampshire",
          "East Hertfordshire",
          "East Lindsey",
          "East Lothian",
          "East Midlands",
          "East Renfrewshire",
          "East Riding of Yorkshire",
          "East Staffordshire",
          "East Suffolk",
          "East Sussex",
          "East of England",
          "Eastbourne",
          "Eastleigh",
          "Elmbridge",
          "Enfield",
          "England",
          "England and Wales",
          "Epping Forest",
          "Epsom and Ewell",
          "Erewash",
          "Essex",
          "Exeter",
          "Falkirk",
          "Fareham",
          "Fenland",
          "Fermanagh and Omagh",
          "Fife",
          "Flintshire",
          "Folkestone and Hythe",
          "Forest of Dean",
          "Fylde",
          "Gateshead",
          "Gedling",
          "Gloucester",
          "Gloucestershire",
          "Gosport",
          "Gravesham",
          "Great Britain",
          "Great Yarmouth",
          "Greater Manchester",
          "Greenwich",
          "Guildford",
          "Gwynedd",
          "Hackney",
          "Halton",
          "Hammersmith and Fulham",
          "Hampshire",
          "Harborough",
          "Haringey",
          "Harlow",
          "Harrow",
          "Hart",
          "Hartlepool",
          "Hastings",
          "Havant",
          "Havering",
          "Herefordshire",
          "Hertfordshire",
          "Hertsmere",
          "High Peak",
          "Highland",
          "Hillingdon",
          "Hinckley and Bosworth",
          "Horsham",
          "Hounslow",
          "Huntingdonshire",
          "Hyndburn",
          "Inner London",
          "Inverclyde",
          "Ipswich",
          "Isle of Anglesey",
          "Isle of Wight",
          "Islington",
          "Kensington and Chelsea",
          "Kent",
          "King's Lynn and West Norfolk ",
          "Kingston upon Thames",
          "Kirklees",
          "Knowsley",
          "Lambeth",
          "Lancashire",
          "Lancaster",
          "Leeds",
          "Leicester",
          "Leicestershire",
          "Lewes",
          "Lewisham",
          "Lichfield",
          "Lincoln",
          "Lincolnshire",
          "Lisburn and Castlereagh",
          "Liverpool",
          "London",
          "Luton",
          "Maidstone",
          "Maldon",
          "Malvern Hills",
          "Manchester",
          "Mansfield",
          "Medway",
          "Melton",
          "Merseyside",
          "Merthyr Tydfil",
          "Merton",
          "Mid Devon",
          "Mid Suffolk",
          "Mid Sussex",
          "Mid Ulster",
          "Mid and East Antrim",
          "Middlesbrough",
          "Midlothian",
          "Milton Keynes",
          "Mole Valley",
          "Monmouthshire",
          "Moray",
          "Na h-Eileanan Siar",
          "Neath Port Talbot",
          "New Forest",
          "Newark and Sherwood",
          "Newcastle upon Tyne",
          "Newcastle-under-Lyme",
          "Newham",
          "Newport",
          "Newry Mourne and Down",
          "Norfolk",
          "North Ayrshire",
          "North Devon",
          "North East",
          "North East Derbyshire",
          "North East Lincolnshire",
          "North Hertfordshire",
          "North Kesteven",
          "North Lanarkshire",
          "North Lincolnshire",
          "North Norfolk",
          "North Northamptonshire",
          "North Somerset",
          "North Tyneside",
          "North Warwickshire",
          "North West",
          "North West Leicestershire",
          "North Yorkshire",
          "Northern Ireland",
          "Northumberland",
          "Norwich",
          "Nottinghamshire",
          "Nuneaton and Bedworth",
          "Oadby and Wigston",
          "Oldham",
          "Orkney Islands",
          "Outer London",
          "Oxford",
          "Oxfordshire",
          "Pembrokeshire",
          "Pendle",
          "Perth and Kinross",
          "Portsmouth",
          "Powys",
          "Preston",
          "Reading",
          "Redbridge",
          "Redcar and Cleveland",
          "Redditch",
          "Reigate and Banstead",
          "Renfrewshire",
          "Rhondda Cynon Taf",
          "Ribble Valley",
          "Richmond upon Thames",
          "Rochdale",
          "Rochford",
          "Rossendale",
          "Rother",
          "Rotherham",
          "Rugby",
          "Runnymede",
          "Rushcliffe",
          "Rushmoor",
          "Rutland",
          "Salford",
          "Sandwell",
          "Scotland",
          "Scottish Borders",
          "Sefton",
          "Sevenoaks",
          "Sheffield",
          "Shetland Islands",
          "Shropshire",
          "Slough",
          "Solihull",
          "Somerset",
          "South Ayrshire",
          "South Cambridgeshire",
          "South Derbyshire",
          "South East",
          "South Gloucestershire",
          "South Hams",
          "South Holland",
          "South Kesteven",
          "South Lanarkshire",
          "South Norfolk",
          "South Oxfordshire",
          "South Ribble",
          "South Staffordshire",
          "South Tyneside",
          "South West",
          "South Yorkshire",
          "Southampton",
          "Southend-on-Sea",
          "Southwark",
          "Spelthorne",
          "St Albans",
          "St Helens",
          "Stafford",
          "Staffordshire",
          "Staffordshire Moorlands",
          "Stevenage",
          "Stirling",
          "Stockport",
          "Stockton-on-Tees",
          "Stoke-on-Trent",
          "Stratford-on-Avon",
          "Stroud",
          "Suffolk",
          "Sunderland",
          "Surrey",
          "Surrey Heath",
          "Sutton",
          "Swale",
          "Swansea",
          "Swindon",
          "Tameside",
          "Tamworth",
          "Tandridge",
          "Teignbridge",
          "Telford and Wrekin",
          "Tendring",
          "Test Valley",
          "Tewkesbury",
          "Thanet",
          "Three Rivers",
          "Thurrock",
          "Tonbridge and Malling",
          "Torbay",
          "Torfaen",
          "Torridge",
          "Tower Hamlets",
          "Trafford",
          "Tunbridge Wells",
          "Tyne and Wear",
          "United Kingdom",
          "Uttlesford",
          "Vale of Glamorgan",
          "Vale of White Horse",
          "Wakefield",
          "Wales",
          "Walsall",
          "Waltham Forest",
          "Wandsworth",
          "Warrington",
          "Warwick",
          "Warwickshire",
          "Watford",
          "Waverley",
          "Wealden",
          "Welwyn Hatfield",
          "West Berkshire",
          "West Devon",
          "West Dunbartonshire",
          "West Lancashire",
          "West Lindsey",
          "West Lothian",
          "West Midlands",
          "West Midlands Region",
          "West Northamptonshire",
          "West Oxfordshire",
          "West Suffolk",
          "West Sussex",
          "West Yorkshire",
          "Westmorland and Furness",
          "Wigan",
          "Wiltshire",
          "Winchester",
          "Windsor and Maidenhead",
          "Wirral",
          "Woking",
          "Wokingham",
          "Wolverhampton",
          "Worcester",
          "Worcestershire",
          "Worthing",
          "Wrexham",
          "Wychavon",
          "Wyre",
          "Wyre Forest",
          "York",
          "Yorkshire and The Humber"
         ],
         "xaxis": "x",
         "y": {
          "bdata": "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",
          "dtype": "i4"
         },
         "yaxis": "y"
        }
       ],
       "layout": {
        "barmode": "relative",
        "legend": {
         "tracegroupgap": 0
        },
        "template": {
         "data": {
          "bar": [
           {
            "error_x": {
             "color": "#2a3f5f"
            },
            "error_y": {
             "color": "#2a3f5f"
            },
            "marker": {
             "line": {
              "color": "#E5ECF6",
              "width": 0.5
             },
             "pattern": {
              "fillmode": "overlay",
              "size": 10,
              "solidity": 0.2
             }
            },
            "type": "bar"
           }
          ],
          "barpolar": [
           {
            "marker": {
             "line": {
              "color": "#E5ECF6",
              "width": 0.5
             },
             "pattern": {
              "fillmode": "overlay",
              "size": 10,
              "solidity": 0.2
             }
            },
            "type": "barpolar"
           }
          ],
          "carpet": [
           {
            "aaxis": {
             "endlinecolor": "#2a3f5f",
             "gridcolor": "white",
             "linecolor": "white",
             "minorgridcolor": "white",
             "startlinecolor": "#2a3f5f"
            },
            "baxis": {
             "endlinecolor": "#2a3f5f",
             "gridcolor": "white",
             "linecolor": "white",
             "minorgridcolor": "white",
             "startlinecolor": "#2a3f5f"
            },
            "type": "carpet"
           }
          ],
          "choropleth": [
           {
            "colorbar": {
             "outlinewidth": 0,
             "ticks": ""
            },
            "type": "choropleth"
           }
          ],
          "contour": [
           {
            "colorbar": {
             "outlinewidth": 0,
             "ticks": ""
            },
            "colorscale": [
             [
              0,
              "#0d0887"
             ],
             [
              0.1111111111111111,
              "#46039f"
             ],
             [
              0.2222222222222222,
              "#7201a8"
             ],
             [
              0.3333333333333333,
              "#9c179e"
             ],
             [
              0.4444444444444444,
              "#bd3786"
             ],
             [
              0.5555555555555556,
              "#d8576b"
             ],
             [
              0.6666666666666666,
              "#ed7953"
             ],
             [
              0.7777777777777778,
              "#fb9f3a"
             ],
             [
              0.8888888888888888,
              "#fdca26"
             ],
             [
              1,
              "#f0f921"
             ]
            ],
            "type": "contour"
           }
          ],
          "contourcarpet": [
           {
            "colorbar": {
             "outlinewidth": 0,
             "ticks": ""
            },
            "type": "contourcarpet"
           }
          ],
          "heatmap": [
           {
            "colorbar": {
             "outlinewidth": 0,
             "ticks": ""
            },
            "colorscale": [
             [
              0,
              "#0d0887"
             ],
             [
              0.1111111111111111,
              "#46039f"
             ],
             [
              0.2222222222222222,
              "#7201a8"
             ],
             [
              0.3333333333333333,
              "#9c179e"
             ],
             [
              0.4444444444444444,
              "#bd3786"
             ],
             [
              0.5555555555555556,
              "#d8576b"
             ],
             [
              0.6666666666666666,
              "#ed7953"
             ],
             [
              0.7777777777777778,
              "#fb9f3a"
             ],
             [
              0.8888888888888888,
              "#fdca26"
             ],
             [
              1,
              "#f0f921"
             ]
            ],
            "type": "heatmap"
           }
          ],
          "histogram": [
           {
            "marker": {
             "pattern": {
              "fillmode": "overlay",
              "size": 10,
              "solidity": 0.2
             }
            },
            "type": "histogram"
           }
          ],
          "histogram2d": [
           {
            "colorbar": {
             "outlinewidth": 0,
             "ticks": ""
            },
            "colorscale": [
             [
              0,
              "#0d0887"
             ],
             [
              0.1111111111111111,
              "#46039f"
             ],
             [
              0.2222222222222222,
              "#7201a8"
             ],
             [
              0.3333333333333333,
              "#9c179e"
             ],
             [
              0.4444444444444444,
              "#bd3786"
             ],
             [
              0.5555555555555556,
              "#d8576b"
             ],
             [
              0.6666666666666666,
              "#ed7953"
             ],
             [
              0.7777777777777778,
              "#fb9f3a"
             ],
             [
              0.8888888888888888,
              "#fdca26"
             ],
             [
              1,
              "#f0f921"
             ]
            ],
            "type": "histogram2d"
           }
          ],
          "histogram2dcontour": [
           {
            "colorbar": {
             "outlinewidth": 0,
             "ticks": ""
            },
            "colorscale": [
             [
              0,
              "#0d0887"
             ],
             [
              0.1111111111111111,
              "#46039f"
             ],
             [
              0.2222222222222222,
              "#7201a8"
             ],
             [
              0.3333333333333333,
              "#9c179e"
             ],
             [
              0.4444444444444444,
              "#bd3786"
             ],
             [
              0.5555555555555556,
              "#d8576b"
             ],
             [
              0.6666666666666666,
              "#ed7953"
             ],
             [
              0.7777777777777778,
              "#fb9f3a"
             ],
             [
              0.8888888888888888,
              "#fdca26"
             ],
             [
              1,
              "#f0f921"
             ]
            ],
            "type": "histogram2dcontour"
           }
          ],
          "mesh3d": [
           {
            "colorbar": {
             "outlinewidth": 0,
             "ticks": ""
            },
            "type": "mesh3d"
           }
          ],
          "parcoords": [
           {
            "line": {
             "colorbar": {
              "outlinewidth": 0,
              "ticks": ""
             }
            },
            "type": "parcoords"
           }
          ],
          "pie": [
           {
            "automargin": true,
            "type": "pie"
           }
          ],
          "scatter": [
           {
            "fillpattern": {
             "fillmode": "overlay",
             "size": 10,
             "solidity": 0.2
            },
            "type": "scatter"
           }
          ],
          "scatter3d": [
           {
            "line": {
             "colorbar": {
              "outlinewidth": 0,
              "ticks": ""
             }
            },
            "marker": {
             "colorbar": {
              "outlinewidth": 0,
              "ticks": ""
             }
            },
            "type": "scatter3d"
           }
          ],
          "scattercarpet": [
           {
            "marker": {
             "colorbar": {
              "outlinewidth": 0,
              "ticks": ""
             }
            },
            "type": "scattercarpet"
           }
          ],
          "scattergeo": [
           {
            "marker": {
             "colorbar": {
              "outlinewidth": 0,
              "ticks": ""
             }
            },
            "type": "scattergeo"
           }
          ],
          "scattergl": [
           {
            "marker": {
             "colorbar": {
              "outlinewidth": 0,
              "ticks": ""
             }
            },
            "type": "scattergl"
           }
          ],
          "scattermap": [
           {
            "marker": {
             "colorbar": {
              "outlinewidth": 0,
              "ticks": ""
             }
            },
            "type": "scattermap"
           }
          ],
          "scattermapbox": [
           {
            "marker": {
             "colorbar": {
              "outlinewidth": 0,
              "ticks": ""
             }
            },
            "type": "scattermapbox"
           }
          ],
          "scatterpolar": [
           {
            "marker": {
             "colorbar": {
              "outlinewidth": 0,
              "ticks": ""
             }
            },
            "type": "scatterpolar"
           }
          ],
          "scatterpolargl": [
           {
            "marker": {
             "colorbar": {
              "outlinewidth": 0,
              "ticks": ""
             }
            },
            "type": "scatterpolargl"
           }
          ],
          "scatterternary": [
           {
            "marker": {
             "colorbar": {
              "outlinewidth": 0,
              "ticks": ""
             }
            },
            "type": "scatterternary"
           }
          ],
          "surface": [
           {
            "colorbar": {
             "outlinewidth": 0,
             "ticks": ""
            },
            "colorscale": [
             [
              0,
              "#0d0887"
             ],
             [
              0.1111111111111111,
              "#46039f"
             ],
             [
              0.2222222222222222,
              "#7201a8"
             ],
             [
              0.3333333333333333,
              "#9c179e"
             ],
             [
              0.4444444444444444,
              "#bd3786"
             ],
             [
              0.5555555555555556,
              "#d8576b"
             ],
             [
              0.6666666666666666,
              "#ed7953"
             ],
             [
              0.7777777777777778,
              "#fb9f3a"
             ],
             [
              0.8888888888888888,
              "#fdca26"
             ],
             [
              1,
              "#f0f921"
             ]
            ],
            "type": "surface"
           }
          ],
          "table": [
           {
            "cells": {
             "fill": {
              "color": "#EBF0F8"
             },
             "line": {
              "color": "white"
             }
            },
            "header": {
             "fill": {
              "color": "#C8D4E3"
             },
             "line": {
              "color": "white"
             }
            },
            "type": "table"
           }
          ]
         },
         "layout": {
          "annotationdefaults": {
           "arrowcolor": "#2a3f5f",
           "arrowhead": 0,
           "arrowwidth": 1
          },
          "autotypenumbers": "strict",
          "coloraxis": {
           "colorbar": {
            "outlinewidth": 0,
            "ticks": ""
           }
          },
          "colorscale": {
           "diverging": [
            [
             0,
             "#8e0152"
            ],
            [
             0.1,
             "#c51b7d"
            ],
            [
             0.2,
             "#de77ae"
            ],
            [
             0.3,
             "#f1b6da"
            ],
            [
             0.4,
             "#fde0ef"
            ],
            [
             0.5,
             "#f7f7f7"
            ],
            [
             0.6,
             "#e6f5d0"
            ],
            [
             0.7,
             "#b8e186"
            ],
            [
             0.8,
             "#7fbc41"
            ],
            [
             0.9,
             "#4d9221"
            ],
            [
             1,
             "#276419"
            ]
           ],
           "sequential": [
            [
             0,
             "#0d0887"
            ],
            [
             0.1111111111111111,
             "#46039f"
            ],
            [
             0.2222222222222222,
             "#7201a8"
            ],
            [
             0.3333333333333333,
             "#9c179e"
            ],
            [
             0.4444444444444444,
             "#bd3786"
            ],
            [
             0.5555555555555556,
             "#d8576b"
            ],
            [
             0.6666666666666666,
             "#ed7953"
            ],
            [
             0.7777777777777778,
             "#fb9f3a"
            ],
            [
             0.8888888888888888,
             "#fdca26"
            ],
            [
             1,
             "#f0f921"
            ]
           ],
           "sequentialminus": [
            [
             0,
             "#0d0887"
            ],
            [
             0.1111111111111111,
             "#46039f"
            ],
            [
             0.2222222222222222,
             "#7201a8"
            ],
            [
             0.3333333333333333,
             "#9c179e"
            ],
            [
             0.4444444444444444,
             "#bd3786"
            ],
            [
             0.5555555555555556,
             "#d8576b"
            ],
            [
             0.6666666666666666,
             "#ed7953"
            ],
            [
             0.7777777777777778,
             "#fb9f3a"
            ],
            [
             0.8888888888888888,
             "#fdca26"
            ],
            [
             1,
             "#f0f921"
            ]
           ]
          },
          "colorway": [
           "#636efa",
           "#EF553B",
           "#00cc96",
           "#ab63fa",
           "#FFA15A",
           "#19d3f3",
           "#FF6692",
           "#B6E880",
           "#FF97FF",
           "#FECB52"
          ],
          "font": {
           "color": "#2a3f5f"
          },
          "geo": {
           "bgcolor": "white",
           "lakecolor": "white",
           "landcolor": "#E5ECF6",
           "showlakes": true,
           "showland": true,
           "subunitcolor": "white"
          },
          "hoverlabel": {
           "align": "left"
          },
          "hovermode": "closest",
          "mapbox": {
           "style": "light"
          },
          "paper_bgcolor": "white",
          "plot_bgcolor": "#E5ECF6",
          "polar": {
           "angularaxis": {
            "gridcolor": "white",
            "linecolor": "white",
            "ticks": ""
           },
           "bgcolor": "#E5ECF6",
           "radialaxis": {
            "gridcolor": "white",
            "linecolor": "white",
            "ticks": ""
           }
          },
          "scene": {
           "xaxis": {
            "backgroundcolor": "#E5ECF6",
            "gridcolor": "white",
            "gridwidth": 2,
            "linecolor": "white",
            "showbackground": true,
            "ticks": "",
            "zerolinecolor": "white"
           },
           "yaxis": {
            "backgroundcolor": "#E5ECF6",
            "gridcolor": "white",
            "gridwidth": 2,
            "linecolor": "white",
            "showbackground": true,
            "ticks": "",
            "zerolinecolor": "white"
           },
           "zaxis": {
            "backgroundcolor": "#E5ECF6",
            "gridcolor": "white",
            "gridwidth": 2,
            "linecolor": "white",
            "showbackground": true,
            "ticks": "",
            "zerolinecolor": "white"
           }
          },
          "shapedefaults": {
           "line": {
            "color": "#2a3f5f"
           }
          },
          "ternary": {
           "aaxis": {
            "gridcolor": "white",
            "linecolor": "white",
            "ticks": ""
           },
           "baxis": {
            "gridcolor": "white",
            "linecolor": "white",
            "ticks": ""
           },
           "bgcolor": "#E5ECF6",
           "caxis": {
            "gridcolor": "white",
            "linecolor": "white",
            "ticks": ""
           }
          },
          "title": {
           "x": 0.05
          },
          "xaxis": {
           "automargin": true,
           "gridcolor": "white",
           "linecolor": "white",
           "ticks": "",
           "title": {
            "standoff": 15
           },
           "zerolinecolor": "white",
           "zerolinewidth": 2
          },
          "yaxis": {
           "automargin": true,
           "gridcolor": "white",
           "linecolor": "white",
           "ticks": "",
           "title": {
            "standoff": 15
           },
           "zerolinecolor": "white",
           "zerolinewidth": 2
          }
         }
        },
        "title": {
         "text": "Average House Prices by Region (Latest)"
        },
        "xaxis": {
         "anchor": "y",
         "domain": [
          0,
          1
         ],
         "title": {
          "text": "Region Name"
         }
        },
        "yaxis": {
         "anchor": "x",
         "domain": [
          0,
          1
         ],
         "title": {
          "text": "Average Price (£)"
         }
        }
       }
      }
     },
     "metadata": {},
     "output_type": "display_data"
    }
   ],
   "source": [
    "# Regional comparison at latest date\n",
    "latest = df[df['Date'] == df['Date'].max()]\n",
    "px.bar(latest, x=\"RegionName\", y=\"AveragePrice\", labels={\"RegionName\":\"Region Name\", \"AveragePrice\":\"Average Price (£)\"}, title=\"Average House Prices by Region (Latest)\")"
   ]
  },
  {
   "cell_type": "markdown",
   "id": "7dd8f14a-cf44-423c-b3c6-ec70180f6bb3",
   "metadata": {},
   "source": [
    "---\n",
    "\n",
    "Both of these plots are clearly unreadable given the amount of regions involved in the dataset, therefore the following plots will show the monthly national average as well as some key regions for comparison\n",
    "\n",
    "---"
   ]
  },
  {
   "cell_type": "code",
   "execution_count": 7,
   "id": "1261de27-4412-4d17-ab0b-9d1e369cfa9c",
   "metadata": {},
   "outputs": [
    {
     "data": {
      "image/png": "[encoded data removed]",
      "text/plain": [
       "<Figure size 1200x600 with 1 Axes>"
      ]
     },
     "metadata": {},
     "output_type": "display_data"
    }
   ],
   "source": [
    "df['Years'] = (df['Date'] - df['Date'].min()).dt.days / 365.0\n",
    "\n",
    "# Compute national average per date\n",
    "national_avg = df.groupby(\"Years\")[\"AveragePrice\"].mean()\n",
    "\n",
    "# # Step 1: Convert datetime to numeric (days since first date)\n",
    "# df['Days'] = (df['Date'] - df['Date'].min()).dt.days\n",
    "\n",
    "# # Compute national average per date\n",
    "# national_avg = df.groupby(\"Days\")[\"AveragePrice\"].mean()\n",
    "\n",
    "# # Compute national average per date\n",
    "# national_avg = df.groupby(\"Date\")[\"AveragePrice\"].mean()\n",
    "\n",
    "# Plot\n",
    "plt.figure(figsize=(12,6))\n",
    "plt.plot(national_avg.index, national_avg.values, label=\"UK National Average\", color=\"blue\")\n",
    "plt.xlabel(\"Date\")\n",
    "plt.ylabel(\"Average Price (£)\")\n",
    "plt.title(\"UK National Average House Price Over Time\")\n",
    "plt.legend()\n",
    "plt.grid(True)\n",
    "plt.show()"
   ]
  },
  {
   "cell_type": "code",
   "execution_count": 8,
   "id": "e01907a6-4c8e-4023-87f2-8c6d28772f5c",
   "metadata": {},
   "outputs": [
    {
     "name": "stdout",
     "output_type": "stream",
     "text": [
      "            Date              RegionName  AveragePrice\n",
      "64868 2025-06-01  Kensington and Chelsea       1462800\n",
      "28289 2025-06-01     City of Westminster       1035323\n",
      "18227 2025-06-01                  Camden        876065\n",
      "             Date           RegionName  AveragePrice\n",
      "16031  2025-06-01              Burnley        123215\n",
      "135872 2025-06-01  West Dunbartonshire        122248\n",
      "63038  2025-06-01           Inverclyde        112288\n",
      "64868     Kensington and Chelsea\n",
      "28289        City of Westminster\n",
      "18227                     Camden\n",
      "16031                    Burnley\n",
      "135872       West Dunbartonshire\n",
      "63038                 Inverclyde\n",
      "Name: RegionName, dtype: object\n",
      "['Burnley', 'Camden', 'City of Westminster', 'Inverclyde', 'Kensington and Chelsea', 'West Dunbartonshire']\n"
     ]
    }
   ],
   "source": [
    "# Sort latest dates by highest average price\n",
    "latest = latest.sort_values(by=[\"AveragePrice\"], ascending=False)\n",
    "\n",
    "# Find top 3 regions\n",
    "top_3 = latest.head(3)\n",
    "print(top_3)\n",
    "\n",
    "# Find bottom 3 regions\n",
    "bot_3 = latest.tail(3)\n",
    "print(bot_3)\n",
    "\n",
    "# Combine the extremes into one dataframe\n",
    "combined_df = pd.concat([top_3, bot_3])\n",
    "print(combined_df[\"RegionName\"])\n",
    "\n",
    "ext_regions = []\n",
    "for region, regiondata in combined_df.groupby(\"RegionName\"):\n",
    "    ext_regions.append(region)\n",
    "\n",
    "print(ext_regions)"
   ]
  },
  {
   "cell_type": "code",
   "execution_count": 9,
   "id": "9c1dbda6-b340-4999-8a31-4681a295205d",
   "metadata": {},
   "outputs": [
    {
     "data": {
      "image/png": "[encoded data removed]",
      "text/plain": [
       "<Figure size 1200x600 with 1 Axes>"
      ]
     },
     "metadata": {},
     "output_type": "display_data"
    }
   ],
   "source": [
    "# Plot setup\n",
    "plt.figure(figsize=(12,6))\n",
    "\n",
    "# Plot each region\n",
    "for region, region_data in df.groupby(\"RegionName\"):\n",
    "    if region in ext_regions:\n",
    "        plt.plot(region_data[\"Date\"], region_data[\"AveragePrice\"], label=region)\n",
    "\n",
    "# Plot national average on top\n",
    "plt.plot(national_avg.index, national_avg.values, label=\"UK National Average\", color=\"black\")\n",
    "\n",
    "# Labels and title\n",
    "plt.xlabel(\"Date\")\n",
    "plt.ylabel(\"Average Price (£)\")\n",
    "plt.title(\"UK House Prices: Extreme Regions vs National Average\")\n",
    "plt.legend(loc=\"upper left\", bbox_to_anchor=(1,1))\n",
    "plt.grid(True)\n",
    "plt.show()"
   ]
  },
  {
   "cell_type": "code",
   "execution_count": 10,
   "id": "71214612",
   "metadata": {},
   "outputs": [
    {
     "data": {
      "image/png": "[encoded data removed]",
      "text/plain": [
       "<Figure size 1200x600 with 1 Axes>"
      ]
     },
     "metadata": {},
     "output_type": "display_data"
    }
   ],
   "source": [
    "# Plot setup\n",
    "plt.figure(figsize=(12,6))\n",
    "\n",
    "# Plot each region\n",
    "for region, region_data in df.groupby(\"RegionName\"):\n",
    "    if region == \"Inverclyde\":\n",
    "        plt.plot(region_data[\"Date\"], region_data[\"AveragePrice\"], label=region)\n",
    "\n",
    "# Labels and title\n",
    "plt.xlabel(\"Date\")\n",
    "plt.ylabel(\"Average Price (£)\")\n",
    "plt.title(\"Average House Prices: Inverclyde\")\n",
    "plt.legend(loc=\"upper left\", bbox_to_anchor=(1,1))\n",
    "plt.grid(True)\n",
    "plt.show()"
   ]
  },
  {
   "cell_type": "code",
   "execution_count": 11,
   "id": "22ae2d12",
   "metadata": {},
   "outputs": [],
   "source": [
    "# Define the non-linear function to fit\n",
    "def exponential_growth(x, a, b, c):\n",
    "    \"\"\"\n",
    "    An exponential growth function: y = a * exp(b * x) + c\n",
    "    a: amplitude\n",
    "    b: growth constant\n",
    "    c: offset\n",
    "    \"\"\"\n",
    "    return a * np.exp(b * x) + c\n",
    "\n",
    "def quadratic(x, a, b, c):\n",
    "    \"\"\"\n",
    "    A quadratic function: y = ax^2 + bx + c\n",
    "    a: quadratic coefficient\n",
    "    b: linear coefficient\n",
    "    c: constant term\n",
    "    \"\"\"\n",
    "    return a * x**2 + b * x + c"
   ]
  },
  {
   "cell_type": "code",
   "execution_count": 12,
   "id": "9ffb11d9",
   "metadata": {},
   "outputs": [
    {
     "data": {
      "image/png": "[encoded data removed]",
      "text/plain": [
       "<Figure size 1200x600 with 1 Axes>"
      ]
     },
     "metadata": {},
     "output_type": "display_data"
    },
    {
     "name": "stdout",
     "output_type": "stream",
     "text": [
      "Fitted parameters: a=58574.9438, b=0.0336, c=-70759.9356\n"
     ]
    }
   ],
   "source": [
    "# Perform the non-linear regression using curve_fit\n",
    "# Provide initial guess values for the parameters (optional but recommended)\n",
    "initial_guesses = [1, 0.1, 0]\n",
    "quad_params, quad_covariance = curve_fit(quadratic, national_avg.index, national_avg.values, p0=initial_guesses)\n",
    "\n",
    "# Extract the fitted parameters\n",
    "quad_a_fit, quad_b_fit, quad_c_fit = quad_params\n",
    "\n",
    "# 4. Generate the fitted curve\n",
    "quad_y_fit = quadratic(national_avg.index, quad_a_fit, quad_b_fit, quad_c_fit)\n",
    "\n",
    "\n",
    "# Perform the non-linear regression using curve_fit\n",
    "# Provide initial guess values for the parameters (optional but recommended)\n",
    "initial_guesses = [1, 0.1, 0]\n",
    "params, covariance = curve_fit(exponential_growth, national_avg.index, national_avg.values, p0=initial_guesses)\n",
    "\n",
    "# Extract the fitted parameters\n",
    "a_fit, b_fit, c_fit = params\n",
    "\n",
    "# 4. Generate the fitted curve\n",
    "y_fit = exponential_growth(national_avg.index, a_fit, b_fit, c_fit)\n",
    "\n",
    "\n",
    "# 5. Visualise the results\n",
    "plt.figure(figsize=(12, 6))\n",
    "plt.plot(national_avg.index, national_avg.values, label=\"UK National Average\", color=\"blue\")\n",
    "# plt.scatter(national_avg.index, national_avg.values, label='Noisy Data', s=20, alpha=0.7)\n",
    "# plt.plot(national_avg.index, y_true, label='True Function (Ideal)', color='green', linestyle='--')\n",
    "plt.plot(national_avg.index, quad_y_fit, label=f'Fitted Function (a={quad_a_fit:.2f}, b={quad_b_fit:.2f}, c={quad_c_fit:.2f})', color='green')\n",
    "plt.plot(national_avg.index, y_fit, label=f'Fitted Function (a={a_fit:.2f}, b={b_fit:.2f}, c={c_fit:.2f})', color='red')\n",
    "plt.xlabel(\"Date\")\n",
    "plt.ylabel(\"Average Price (£)\")\n",
    "# plt.title('Non-Linear Regression: Exponential Growth')\n",
    "plt.title(\"UK National Average House Price Over Time\")\n",
    "plt.legend()\n",
    "plt.grid(True)\n",
    "plt.show()\n",
    "\n",
    "print(f\"Fitted parameters: a={a_fit:.4f}, b={b_fit:.4f}, c={c_fit:.4f}\")\n",
    "# print(f\"True parameters: a={true_a:.4f}, b={true_b:.4f}, c={true_c:.4f}\")"
   ]
  },
  {
   "cell_type": "markdown",
   "id": "e2e3286b",
   "metadata": {},
   "source": [
    "Visually it appears that the national average house price in the UK models best to a quadratic equation as opposed to an exponential equation. Below we calculate the residuals and RMSE to confirm this."
   ]
  },
  {
   "cell_type": "code",
   "execution_count": 13,
   "id": "cd8b446a",
   "metadata": {},
   "outputs": [
    {
     "name": "stdout",
     "output_type": "stream",
     "text": [
      "RMSE: 14618.71\n",
      "Quadratic RMSE: 12766.73\n"
     ]
    }
   ],
   "source": [
    "residuals = national_avg.values - y_fit\n",
    "quad_residuals = national_avg.values - quad_y_fit\n",
    "\n",
    "mse = np.mean(residuals**2)\n",
    "quad_mse = np.mean(quad_residuals**2)\n",
    "\n",
    "rmse = np.sqrt(mse)\n",
    "quad_rmse = np.sqrt(quad_mse)\n",
    "\n",
    "print(f\"RMSE: {rmse:.2f}\")\n",
    "print(f\"Quadratic RMSE: {quad_rmse:.2f}\")"
   ]
  }
 ],
 "metadata": {
  "kernelspec": {
   "display_name": "venv",
   "language": "python",
   "name": "python3"
  },
  "language_info": {
   "codemirror_mode": {
    "name": "ipython",
    "version": 3
   },
   "file_extension": ".py",
   "mimetype": "text/x-python",
   "name": "python",
   "nbconvert_exporter": "python",
   "pygments_lexer": "ipython3",
   "version": "3.11.9"
  }
 },
 "nbformat": 4,
 "nbformat_minor": 5
}
